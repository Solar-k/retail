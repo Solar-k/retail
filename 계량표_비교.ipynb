{
 "cells": [
  {
   "cell_type": "code",
   "execution_count": 107,
   "id": "81b0adc3-01e6-41c3-a554-f186fde56cfe",
   "metadata": {},
   "outputs": [],
   "source": [
    "import pandas as pd\n",
    "import matplotlib.pyplot as plt\n",
    "import seaborn as sns\n",
    "import numpy as np\n",
    "\n",
    "# 경고문구 무시\n",
    "import warnings\n",
    "warnings.filterwarnings('ignore')\n",
    "\n",
    "# 이미지 해상도 높이기 \n",
    "%config InlineBackend.figure_format = 'retina'\n",
    "plt.rcParams['font.family'] = 'Malgun Gothic'\n",
    "plt.rcParams['axes.unicode_minus'] = False"
   ]
  },
  {
   "cell_type": "code",
   "execution_count": 108,
   "id": "9f32b23f-f90e-4244-a91d-d5e10d27e52a",
   "metadata": {},
   "outputs": [],
   "source": [
    "origin = pd.read_excel('계량표_제설염_(당진항).xlsx')\n",
    "\n",
    "origin.drop(columns=['No.','품목명','총중량(Kg)','공차중량(Kg)','인수량(Kg)','누적합계(Kg)','누적합계(t)'],axis=1,inplace=True)\n",
    "\n",
    "origin.rename(columns = {'실중량(Kg)': '당진항_계량중량(Kg)'},inplace=True)"
   ]
  },
  {
   "cell_type": "code",
   "execution_count": 109,
   "id": "4a4c4f19-cf69-4ae9-a667-428a4efb22b7",
   "metadata": {},
   "outputs": [],
   "source": [
    "comp = pd.read_excel('비교계량표_제설염_(논산IC주유소).xlsx')\n",
    "\n",
    "comp.dropna(axis=0,inplace=True)\n",
    "\n",
    "comp.drop(columns=['No.','품목명','총중량(Kg)','공차중량(Kg)','인수량(Kg)','누적합계(Kg)','누적합계(t)'],axis=1,inplace=True)\n",
    "\n",
    "comp.rename(columns = {'실중량(Kg)': '논산IC주유소_계량중량(Kg)'},inplace=True)"
   ]
  },
  {
   "cell_type": "code",
   "execution_count": 110,
   "id": "e3be43f1-48dc-4b9c-9581-f3aa738b55e1",
   "metadata": {
    "jupyter": {
     "source_hidden": true
    },
    "tags": []
   },
   "outputs": [],
   "source": [
    "# s_carnum = origin['차량번호'].unique()\n",
    "# s_date   = origin['계량일자'].unique()\n",
    "\n",
    "# s_carnum\n",
    "\n",
    "# s_date\n",
    "\n",
    "# a = pd.DataFrame()\n",
    "\n",
    "# for x in s_date:\n",
    "    \n",
    "#     for y in s_carnum:\n",
    "        \n",
    "#         # print(origin['계량일자'] == x)\n",
    "#         b = origin.loc[(origin['계량일자'] == x) & (origin['차량번호'] == y),['계량일자','차량번호','실중량(Kg)']]\n",
    "#         b = pd.DataFrame(b)\n",
    "         \n",
    "#         a = pd.concat([a, b])"
   ]
  },
  {
   "cell_type": "code",
   "execution_count": 111,
   "id": "9875e411-ae82-4b50-bbc7-dfaac4bcba78",
   "metadata": {},
   "outputs": [],
   "source": [
    "df = pd.merge(origin,comp, how = 'inner', on=['계량일자','차량번호'])\n",
    "\n",
    "df['오차범위(Kg)'] = df['당진항_계량중량(Kg)'] * 0.05\n",
    "\n",
    "df['실제_차이량(Kg)'] = abs(df['당진항_계량중량(Kg)'] - df['논산IC주유소_계량중량(Kg)'] )\n",
    "\n",
    "df['오차범위_통과'] = '-'\n",
    "\n",
    "for x in range(0,4):\n",
    "    if (df['오차범위(Kg)'][x] - df['실제_차이량(Kg)'][x]) > 0 :\n",
    "        df['오차범위_통과'][x] = 'Pass'\n",
    "    else:\n",
    "        df['오차범위_통과'][x] = 'False'"
   ]
  },
  {
   "cell_type": "code",
   "execution_count": 112,
   "id": "317714c7-7a79-43ec-bea0-12fcb8484e36",
   "metadata": {},
   "outputs": [
    {
     "data": {
      "text/html": [
       "<div>\n",
       "<style scoped>\n",
       "    .dataframe tbody tr th:only-of-type {\n",
       "        vertical-align: middle;\n",
       "    }\n",
       "\n",
       "    .dataframe tbody tr th {\n",
       "        vertical-align: top;\n",
       "    }\n",
       "\n",
       "    .dataframe thead th {\n",
       "        text-align: right;\n",
       "    }\n",
       "</style>\n",
       "<table border=\"1\" class=\"dataframe\">\n",
       "  <thead>\n",
       "    <tr style=\"text-align: right;\">\n",
       "      <th></th>\n",
       "      <th>계량일자</th>\n",
       "      <th>차량번호</th>\n",
       "      <th>당진항_계량중량(Kg)</th>\n",
       "      <th>논산IC주유소_계량중량(Kg)</th>\n",
       "      <th>오차범위(Kg)</th>\n",
       "      <th>실제_차이량(Kg)</th>\n",
       "      <th>오차범위_통과</th>\n",
       "    </tr>\n",
       "  </thead>\n",
       "  <tbody>\n",
       "    <tr>\n",
       "      <th>0</th>\n",
       "      <td>2023년09월01일</td>\n",
       "      <td>경기92아7395</td>\n",
       "      <td>27480</td>\n",
       "      <td>27350</td>\n",
       "      <td>1374.0</td>\n",
       "      <td>130</td>\n",
       "      <td>Pass</td>\n",
       "    </tr>\n",
       "    <tr>\n",
       "      <th>1</th>\n",
       "      <td>2023년09월01일</td>\n",
       "      <td>전북91사3523</td>\n",
       "      <td>27700</td>\n",
       "      <td>27580</td>\n",
       "      <td>1385.0</td>\n",
       "      <td>120</td>\n",
       "      <td>Pass</td>\n",
       "    </tr>\n",
       "    <tr>\n",
       "      <th>2</th>\n",
       "      <td>2023년09월04일</td>\n",
       "      <td>충남87바2216</td>\n",
       "      <td>27380</td>\n",
       "      <td>27280</td>\n",
       "      <td>1369.0</td>\n",
       "      <td>100</td>\n",
       "      <td>Pass</td>\n",
       "    </tr>\n",
       "    <tr>\n",
       "      <th>3</th>\n",
       "      <td>2023년09월04일</td>\n",
       "      <td>전북81사4163</td>\n",
       "      <td>27640</td>\n",
       "      <td>27540</td>\n",
       "      <td>1382.0</td>\n",
       "      <td>100</td>\n",
       "      <td>Pass</td>\n",
       "    </tr>\n",
       "  </tbody>\n",
       "</table>\n",
       "</div>"
      ],
      "text/plain": [
       "          계량일자       차량번호  당진항_계량중량(Kg)  논산IC주유소_계량중량(Kg)  오차범위(Kg)  \\\n",
       "0  2023년09월01일  경기92아7395         27480             27350    1374.0   \n",
       "1  2023년09월01일  전북91사3523         27700             27580    1385.0   \n",
       "2  2023년09월04일  충남87바2216         27380             27280    1369.0   \n",
       "3  2023년09월04일  전북81사4163         27640             27540    1382.0   \n",
       "\n",
       "   실제_차이량(Kg) 오차범위_통과  \n",
       "0         130    Pass  \n",
       "1         120    Pass  \n",
       "2         100    Pass  \n",
       "3         100    Pass  "
      ]
     },
     "execution_count": 112,
     "metadata": {},
     "output_type": "execute_result"
    }
   ],
   "source": [
    "df"
   ]
  },
  {
   "cell_type": "code",
   "execution_count": 118,
   "id": "c073b77c-9c24-4166-9be6-7cb8c15efa10",
   "metadata": {},
   "outputs": [
    {
     "data": {
      "text/plain": [
       "RangeIndex(start=0, stop=4, step=1)"
      ]
     },
     "execution_count": 118,
     "metadata": {},
     "output_type": "execute_result"
    }
   ],
   "source": [
    "df.index"
   ]
  },
  {
   "cell_type": "code",
   "execution_count": 119,
   "id": "3864b52a-1fc3-4e19-a51a-eee848d280a0",
   "metadata": {},
   "outputs": [
    {
     "data": {
      "image/png": "[encoded data removed]",
      "text/plain": [
       "<Figure size 640x480 with 1 Axes>"
      ]
     },
     "metadata": {
      "image/png": {
       "height": 413,
       "width": 548
      }
     },
     "output_type": "display_data"
    }
   ],
   "source": [
    "plt.bar(df.index,df['실제_차이량(Kg)'])\n",
    "plt.show()"
   ]
  },
  {
   "cell_type": "code",
   "execution_count": 122,
   "id": "d9f5de43-3999-4955-b31a-0cd20c5673b3",
   "metadata": {},
   "outputs": [
    {
     "data": {
      "text/html": [
       "<div>\n",
       "<style scoped>\n",
       "    .dataframe tbody tr th:only-of-type {\n",
       "        vertical-align: middle;\n",
       "    }\n",
       "\n",
       "    .dataframe tbody tr th {\n",
       "        vertical-align: top;\n",
       "    }\n",
       "\n",
       "    .dataframe thead th {\n",
       "        text-align: right;\n",
       "    }\n",
       "</style>\n",
       "<table border=\"1\" class=\"dataframe\">\n",
       "  <thead>\n",
       "    <tr style=\"text-align: right;\">\n",
       "      <th></th>\n",
       "      <th>계량일자</th>\n",
       "      <th>차량번호</th>\n",
       "      <th>당진항_계량중량(Kg)</th>\n",
       "      <th>논산IC주유소_계량중량(Kg)</th>\n",
       "      <th>오차범위(Kg)</th>\n",
       "      <th>실제_차이량(Kg)</th>\n",
       "      <th>오차범위_통과</th>\n",
       "    </tr>\n",
       "  </thead>\n",
       "  <tbody>\n",
       "    <tr>\n",
       "      <th>0</th>\n",
       "      <td>2023년09월01일</td>\n",
       "      <td>경기92아7395</td>\n",
       "      <td>27480</td>\n",
       "      <td>27350</td>\n",
       "      <td>1374.0</td>\n",
       "      <td>130</td>\n",
       "      <td>Pass</td>\n",
       "    </tr>\n",
       "    <tr>\n",
       "      <th>1</th>\n",
       "      <td>2023년09월01일</td>\n",
       "      <td>전북91사3523</td>\n",
       "      <td>27700</td>\n",
       "      <td>27580</td>\n",
       "      <td>1385.0</td>\n",
       "      <td>120</td>\n",
       "      <td>Pass</td>\n",
       "    </tr>\n",
       "    <tr>\n",
       "      <th>2</th>\n",
       "      <td>2023년09월04일</td>\n",
       "      <td>충남87바2216</td>\n",
       "      <td>27380</td>\n",
       "      <td>27280</td>\n",
       "      <td>1369.0</td>\n",
       "      <td>100</td>\n",
       "      <td>Pass</td>\n",
       "    </tr>\n",
       "    <tr>\n",
       "      <th>3</th>\n",
       "      <td>2023년09월04일</td>\n",
       "      <td>전북81사4163</td>\n",
       "      <td>27640</td>\n",
       "      <td>27540</td>\n",
       "      <td>1382.0</td>\n",
       "      <td>100</td>\n",
       "      <td>Pass</td>\n",
       "    </tr>\n",
       "  </tbody>\n",
       "</table>\n",
       "</div>"
      ],
      "text/plain": [
       "          계량일자       차량번호  당진항_계량중량(Kg)  논산IC주유소_계량중량(Kg)  오차범위(Kg)  \\\n",
       "0  2023년09월01일  경기92아7395         27480             27350    1374.0   \n",
       "1  2023년09월01일  전북91사3523         27700             27580    1385.0   \n",
       "2  2023년09월04일  충남87바2216         27380             27280    1369.0   \n",
       "3  2023년09월04일  전북81사4163         27640             27540    1382.0   \n",
       "\n",
       "   실제_차이량(Kg) 오차범위_통과  \n",
       "0         130    Pass  \n",
       "1         120    Pass  \n",
       "2         100    Pass  \n",
       "3         100    Pass  "
      ]
     },
     "execution_count": 122,
     "metadata": {},
     "output_type": "execute_result"
    }
   ],
   "source": [
    "df.head()"
   ]
  },
  {
   "cell_type": "code",
   "execution_count": 123,
   "id": "775d9f2d-9d99-433b-a081-147c9818cbf7",
   "metadata": {},
   "outputs": [
    {
     "data": {
      "text/plain": [
       "오차범위_통과\n",
       "Pass    4\n",
       "Name: count, dtype: int64"
      ]
     },
     "execution_count": 123,
     "metadata": {},
     "output_type": "execute_result"
    }
   ],
   "source": [
    "df['오차범위_통과'].value_counts()"
   ]
  }
 ],
 "metadata": {
  "kernelspec": {
   "display_name": "Python 3 (ipykernel)",
   "language": "python",
   "name": "python3"
  },
  "language_info": {
   "codemirror_mode": {
    "name": "ipython",
    "version": 3
   },
   "file_extension": ".py",
   "mimetype": "text/x-python",
   "name": "python",
   "nbconvert_exporter": "python",
   "pygments_lexer": "ipython3",
   "version": "3.10.9"
  }
 },
 "nbformat": 4,
 "nbformat_minor": 5
}
